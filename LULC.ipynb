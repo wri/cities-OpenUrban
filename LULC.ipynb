{
 "cells": [
  {
   "cell_type": "code",
   "execution_count": 3,
   "id": "ecc1007b",
   "metadata": {},
   "outputs": [],
   "source": [
    "import ee\n",
    "# ee.Authenticate()\n",
    "ee.Initialize()"
   ]
  },
  {
   "cell_type": "code",
   "execution_count": 4,
   "id": "2b324982",
   "metadata": {},
   "outputs": [],
   "source": [
    "import ipyleaflet\n",
    "import numpy as np\n",
    "import requests\n",
    "import os\n",
    "import pandas as pd\n",
    "import rasterio\n",
    "from rasterio.crs import CRS\n",
    "import boto3\n",
    "import geopandas as gpd\n",
    "import glob\n",
    "import geemap\n",
    "import stateplane # Lookup State Plane by lat lon and convert\n",
    "import osmnx as ox\n",
    "from pandas_geojson import write_geojson\n",
    "from rasterio import features"
   ]
  },
  {
   "cell_type": "markdown",
   "id": "40946dd7",
   "metadata": {},
   "source": [
    "# Load cities data & choose city"
   ]
  },
  {
   "cell_type": "code",
   "execution_count": 5,
   "id": "12cf3772",
   "metadata": {},
   "outputs": [
    {
     "name": "stdout",
     "output_type": "stream",
     "text": [
      "    OBJECTID UACE10 GEOID10                               NAME10  \\\n",
      "0        558  42346   42346                      Jacksonville_FL   \n",
      "1        608  80389   80389                           Seattle_WA   \n",
      "2        684  15670   15670                     Charlotte_NC__SC   \n",
      "3        714  71317   71317                      Portland_OR__WA   \n",
      "4        816  56602   56602                             Miami_FL   \n",
      "5        990  58600   58600                        Montgomery_AL   \n",
      "6       1101  23824   23824                           Detroit_MI   \n",
      "7       1584  09271   09271                    Boston_MA__NH__RI   \n",
      "8       1625  77770   77770                      St_Louis_MO__IL   \n",
      "9       1666  77068   77068                        Sacramento_CA   \n",
      "10      2312  63217   63217          New_York__Newark_NY__NJ__CT   \n",
      "11      2537  69076   69076          Philadelphia_PA__NJ__DE__MD   \n",
      "12      2709  56116   56116                   Memphis_TN__MS__AR   \n",
      "13      2834  22042   22042     Dallas__Fort_Worth__Arlington_TX   \n",
      "14      2992  03817   03817                           Atlanta_GA   \n",
      "15      3170  04843   04843                         Baltimore_MD   \n",
      "16      3240  16264   16264                       Chicago_IL__IN   \n",
      "17      3283  51445   51445  Los_Angeles__Long_Beach__Anaheim_CA   \n",
      "18      3377  62677   62677                       New_Orleans_LA   \n",
      "19      3392  69184   69184                     Phoenix__Mesa_AZ   \n",
      "20      3475  18964   18964                          Columbia_SC   \n",
      "21      3555  78580   78580                       San_Antonio_TX   \n",
      "\n",
      "                                           NAMELSAD10 LSAD10 MTFCC10 UATYP10  \\\n",
      "0                     Jacksonville, FL Urbanized Area     75   G3500       U   \n",
      "1                          Seattle, WA Urbanized Area     75   G3500       U   \n",
      "2                    Charlotte, NC--SC Urbanized Area     75   G3500       U   \n",
      "3                     Portland, OR--WA Urbanized Area     75   G3500       U   \n",
      "4                            Miami, FL Urbanized Area     75   G3500       U   \n",
      "5                       Montgomery, AL Urbanized Area     75   G3500       U   \n",
      "6                          Detroit, MI Urbanized Area     75   G3500       U   \n",
      "7                   Boston, MA--NH--RI Urbanized Area     75   G3500       U   \n",
      "8                    St. Louis, MO--IL Urbanized Area     75   G3500       U   \n",
      "9                       Sacramento, CA Urbanized Area     75   G3500       U   \n",
      "10        New York--Newark, NY--NJ--CT Urbanized Area     75   G3500       U   \n",
      "11        Philadelphia, PA--NJ--DE--MD Urbanized Area     75   G3500       U   \n",
      "12                 Memphis, TN--MS--AR Urbanized Area     75   G3500       U   \n",
      "13   Dallas--Fort Worth--Arlington, TX Urbanized Area     75   G3500       U   \n",
      "14                         Atlanta, GA Urbanized Area     75   G3500       U   \n",
      "15                       Baltimore, MD Urbanized Area     75   G3500       U   \n",
      "16                     Chicago, IL--IN Urbanized Area     75   G3500       U   \n",
      "17  Los Angeles--Long Beach--Anaheim, CA Urbanized...     75   G3500       U   \n",
      "18                     New Orleans, LA Urbanized Area     75   G3500       U   \n",
      "19                   Phoenix--Mesa, AZ Urbanized Area     75   G3500       U   \n",
      "20                        Columbia, SC Urbanized Area     75   G3500       U   \n",
      "21                     San Antonio, TX Urbanized Area     75   G3500       U   \n",
      "\n",
      "   FUNCSTAT10       ALAND10     AWATER10   INTPTLAT10    INTPTLON10  UA_ID  \\\n",
      "0           S  1.375210e+09  198749395.0  +30.2480477  -081.6359963  42346   \n",
      "1           S  2.615016e+09  174099460.0  +47.4684093  -122.2746615  80389   \n",
      "2           S  1.920046e+09   91857421.0  +35.2496538  -080.8158259  15670   \n",
      "3           S  1.358323e+09   34723929.0  +45.5204041  -122.6510867  71317   \n",
      "4           S  3.177367e+09  222649531.0  +26.1756162  -080.2314282  56602   \n",
      "5           S  3.973650e+08    3457524.0  +32.3991855  -086.2974386  58600   \n",
      "6           S  3.460552e+09   94236843.0  +42.4900049  -083.2275540  23824   \n",
      "7           S  4.852766e+09  201472008.0  +42.3738659  -071.1409905  09271   \n",
      "8           S  2.391270e+09   30419404.0  +38.6307051  -090.3409258  77770   \n",
      "9           S  1.220363e+09   12767880.0  +38.6385784  -121.3246689  77068   \n",
      "10          S  8.934360e+09  534526165.0  +40.7169979  -073.9666632  63217   \n",
      "11          S  5.132048e+09  127255035.0  +39.9732771  -075.2983558  69076   \n",
      "12          S  1.287909e+09    9460987.0  +35.0950711  -089.9178569  56116   \n",
      "13          S  4.612320e+09   89696108.0  +32.8127265  -096.9720007  22042   \n",
      "14          S  6.853091e+09   92169978.0  +33.8241019  -084.3318578  03817   \n",
      "15          S  1.856734e+09   65430319.0  +39.2340992  -076.6477596  04843   \n",
      "16          S  6.321129e+09  110783782.0  +41.8271261  -087.8954275  16264   \n",
      "17          S  4.506585e+09   52249339.0  +33.9826675  -118.1043319  51445   \n",
      "18          S  6.512164e+08   44655876.0  +29.9568739  -090.1414405  62677   \n",
      "19          S  2.970505e+09   11102478.0  +33.4940669  -111.9700406  69184   \n",
      "20          S  9.842423e+08   15470087.0  +34.0362361  -081.0772067  18964   \n",
      "21          S  1.547444e+09    9020301.0  +29.5143992  -098.4753761  78580   \n",
      "\n",
      "      Shape_Leng    Shape_Area                                  UHI_NAME  \\\n",
      "0   7.484308e+05  1.573960e+09                       558_Jacksonville_FL   \n",
      "1   1.168699e+06  2.789116e+09                            608_Seattle_WA   \n",
      "2   1.322960e+06  2.011903e+09                      684_Charlotte_NC__SC   \n",
      "3   7.905544e+05  1.393047e+09                       714_Portland_OR__WA   \n",
      "4   8.843333e+05  3.400017e+09                              816_Miami_FL   \n",
      "5   4.239947e+05  4.008225e+08                         990_Montgomery_AL   \n",
      "6   1.070977e+06  3.554789e+09                           1101_Detroit_MI   \n",
      "7   2.885533e+06  5.054238e+09                    1584_Boston_MA__NH__RI   \n",
      "8   1.269757e+06  2.421690e+09                      1625_St_Louis_MO__IL   \n",
      "9   5.955427e+05  1.233131e+09                        1666_Sacramento_CA   \n",
      "10  4.618803e+06  9.468886e+09          2312_New_York__Newark_NY__NJ__CT   \n",
      "11  2.804245e+06  5.259303e+09          2537_Philadelphia_PA__NJ__DE__MD   \n",
      "12  6.892771e+05  1.297370e+09                   2709_Memphis_TN__MS__AR   \n",
      "13  2.216464e+06  4.702016e+09     2834_Dallas__Fort_Worth__Arlington_TX   \n",
      "14  3.097109e+06  6.945261e+09                           2992_Atlanta_GA   \n",
      "15  1.178906e+06  1.922165e+09                         3170_Baltimore_MD   \n",
      "16  2.244390e+06  6.431913e+09                       3240_Chicago_IL__IN   \n",
      "17  9.289445e+05  4.558834e+09  3283_Los_Angeles__Long_Beach__Anaheim_CA   \n",
      "18  5.990903e+05  6.958725e+08                       3377_New_Orleans_LA   \n",
      "19  1.217415e+06  2.981608e+09                     3392_Phoenix__Mesa_AZ   \n",
      "20  7.920508e+05  9.997124e+08                          3475_Columbia_SC   \n",
      "21  8.008615e+05  1.556465e+09                       3555_San_Antonio_TX   \n",
      "\n",
      "                                             geometry  \n",
      "0   MULTIPOLYGON (((-81.80207 30.05037, -81.80206 ...  \n",
      "1   MULTIPOLYGON (((-122.29603 47.03013, -122.2960...  \n",
      "2   MULTIPOLYGON (((-80.61347 34.98715, -80.61480 ...  \n",
      "3   MULTIPOLYGON (((-122.56495 45.30390, -122.5650...  \n",
      "4   MULTIPOLYGON (((-80.50949 25.43302, -80.50775 ...  \n",
      "5   MULTIPOLYGON (((-86.19531 32.30169, -86.19534 ...  \n",
      "6   MULTIPOLYGON (((-83.00042 42.34509, -83.00551 ...  \n",
      "7   MULTIPOLYGON (((-71.17043 41.86774, -71.17128 ...  \n",
      "8   MULTIPOLYGON (((-90.11088 38.70294, -90.11124 ...  \n",
      "9   MULTIPOLYGON (((-121.07887 38.73724, -121.0788...  \n",
      "10  MULTIPOLYGON (((-74.01006 40.46686, -74.01387 ...  \n",
      "11  MULTIPOLYGON (((-75.22850 39.79618, -75.22865 ...  \n",
      "12  MULTIPOLYGON (((-89.93680 34.89975, -89.93692 ...  \n",
      "13  MULTIPOLYGON (((-96.99903 32.50172, -96.99747 ...  \n",
      "14  MULTIPOLYGON (((-84.38522 33.41139, -84.38523 ...  \n",
      "15  MULTIPOLYGON (((-76.63147 38.95913, -76.63162 ...  \n",
      "16  MULTIPOLYGON (((-88.31059 41.44993, -88.31059 ...  \n",
      "17  MULTIPOLYGON (((-118.14526 34.21498, -118.1444...  \n",
      "18  MULTIPOLYGON (((-90.05282 30.03435, -90.05221 ...  \n",
      "19  MULTIPOLYGON (((-111.99711 33.34125, -111.9971...  \n",
      "20  MULTIPOLYGON (((-80.87357 33.95286, -80.87420 ...  \n",
      "21  MULTIPOLYGON (((-98.63736 29.29293, -98.63832 ...  \n"
     ]
    }
   ],
   "source": [
    "## Load metro area boundaries\n",
    "cities = gpd.read_file(\"data/Smart_Surfaces_metro_areas/smart_surfaces_urban_areas.shp\")\n",
    "print(cities)"
   ]
  },
  {
   "cell_type": "code",
   "execution_count": 6,
   "id": "85d6c9c9",
   "metadata": {},
   "outputs": [
    {
     "name": "stdout",
     "output_type": "stream",
     "text": [
      "    OBJECTID UACE10 GEOID10          NAME10                      NAMELSAD10  \\\n",
      "18      3377  62677   62677  New_Orleans_LA  New Orleans, LA Urbanized Area   \n",
      "\n",
      "   LSAD10 MTFCC10 UATYP10 FUNCSTAT10      ALAND10    AWATER10   INTPTLAT10  \\\n",
      "18     75   G3500       U          S  651216426.0  44655876.0  +29.9568739   \n",
      "\n",
      "      INTPTLON10  UA_ID     Shape_Leng    Shape_Area             UHI_NAME  \\\n",
      "18  -090.1414405  62677  599090.322152  6.958725e+08  3377_New_Orleans_LA   \n",
      "\n",
      "                                             geometry  \n",
      "18  MULTIPOLYGON (((-90.05282 30.03435, -90.05221 ...  \n"
     ]
    },
    {
     "name": "stderr",
     "output_type": "stream",
     "text": [
      "/var/folders/jn/2s8m6y5x09z9ysrcz_t9z2qw0000gq/T/ipykernel_56931/336673361.py:11: UserWarning: Geometry is in a geographic CRS. Results from 'centroid' are likely incorrect. Use 'GeoSeries.to_crs()' to re-project geometries to a projected CRS before this operation.\n",
      "\n",
      "  centroid = city_geom.centroid\n"
     ]
    }
   ],
   "source": [
    "## Choose city of interest, use underscores instead of spaces\n",
    "city = 'New_Orleans'\n",
    "\n",
    "## Get city geometry\n",
    "city_geom = cities.loc[cities['NAME10'].str.contains(city, case = False)]\n",
    "\n",
    "# city_geom = cities.loc[cities['NAME10'] == city]\n",
    "print(city_geom)\n",
    "\n",
    "## Get centroid of city area \n",
    "centroid = city_geom.centroid\n",
    "\n",
    "## Determine local state plane projection\n",
    "proj = stateplane.identify(centroid.x, centroid.y)"
   ]
  },
  {
   "cell_type": "markdown",
   "id": "1dc561dc",
   "metadata": {},
   "source": [
    "# Create AOI for LA for testing purposes"
   ]
  },
  {
   "cell_type": "code",
   "execution_count": 7,
   "id": "48c0c52c",
   "metadata": {},
   "outputs": [
    {
     "name": "stdout",
     "output_type": "stream",
     "text": [
      "EPSG:4326\n"
     ]
    }
   ],
   "source": [
    "aoi = gpd.read_file(\"data/AOI.geojson\")\n",
    "print(aoi.crs)\n",
    "\n",
    "city_geom = aoi"
   ]
  },
  {
   "cell_type": "code",
   "execution_count": 8,
   "id": "b73c7996",
   "metadata": {},
   "outputs": [
    {
     "name": "stderr",
     "output_type": "stream",
     "text": [
      "/var/folders/jn/2s8m6y5x09z9ysrcz_t9z2qw0000gq/T/ipykernel_56931/1589037119.py:2: UserWarning: Geometry is in a geographic CRS. Results from 'buffer' are likely incorrect. Use 'GeoSeries.to_crs()' to re-project geometries to a projected CRS before this operation.\n",
      "\n",
      "  bb = city_geom.buffer(0.007).bounds\n"
     ]
    }
   ],
   "source": [
    "## Create bounding box (0.007 is about half a mile in degrees)\n",
    "bb = city_geom.buffer(0.007).bounds\n",
    "\n",
    "west = bb.iat[0, 0]\n",
    "south = bb.iat[0, 1]\n",
    "east = bb.iat[0, 2]\n",
    "north = bb.iat[0, 3]\n",
    "\n",
    "bb_geom = ee.Geometry.BBox(west, south, east, north)"
   ]
  },
  {
   "cell_type": "markdown",
   "id": "13854205",
   "metadata": {},
   "source": [
    "# ESA Worldcover"
   ]
  },
  {
   "cell_type": "code",
   "execution_count": 10,
   "id": "bda13512",
   "metadata": {},
   "outputs": [],
   "source": [
    "# Read ESA land cover (2021)\n",
    "esa = ee.ImageCollection('ESA/WorldCover/v200')\n",
    "\n",
    "# Clip to city of interest\n",
    "esa_city = esa.filterBounds(bb_geom)\n",
    "\n",
    "# ImageCollection to image\n",
    "esa_city = esa_city.first()\n",
    "\n",
    "# Reclassify raster to combine greenspace types\n",
    "\n",
    "## [ND, Tree, Shrubland, Grassland, Cropland, Built up, Bare/sparse vegetation,\n",
    "##  Snow/ice, Permanent water bodies, Herbaceous wetland, Mangroves, Moss and lichen]\n",
    "FROM = [0, 10, 20, 30, 40, 50, 60, 80, 70, 90, 95, 100]\n",
    "\n",
    "## [ND, Green, Green, Green, Green, Built up, Barren, Water, Water, Water, Water, Barren]\n",
    "TO = [0, 1, 1, 1, 1, 2, 3, 4, 4, 4, 4, 3]\n",
    "\n",
    "esa_city_rm = esa_city.remap(FROM, TO)"
   ]
  },
  {
   "cell_type": "code",
   "execution_count": 13,
   "id": "418c95b4",
   "metadata": {},
   "outputs": [],
   "source": [
    "########## remove after debugging\n",
    "city = \"LA\"\n",
    "##########\n",
    "\n",
    "# Resample raster from 10-m to 1-m\n",
    "esa_1m = esa_city.reproject(crs = \"EPSG:\"+proj, scale = 1)\n",
    "\n",
    "# Export to Google Drive\n",
    "geemap.ee_export_image_to_drive(\n",
    "        esa_1m.toByte(), # use toByte() to reduce file size \n",
    "        scale = 1, # 10 for native resolution, 50 for smaller file size \n",
    "        description = 'ESA_1m',\n",
    "        region = bb_geom,\n",
    "        maxPixels = 5000000000\n",
    "    )\n",
    "\n",
    "# Create city folder\n",
    "out_dir = os.getcwd()\n",
    "city_folder = out_dir + \"/data/\" + city\n",
    "os.makedirs(city_folder)\n",
    "\n",
    "################\n",
    "## Download from Google Drive to city folder\n",
    "################"
   ]
  },
  {
   "cell_type": "code",
   "execution_count": 15,
   "id": "2e0819c3",
   "metadata": {},
   "outputs": [
    {
     "name": "stdout",
     "output_type": "stream",
     "text": [
      "EPSG:26982\n"
     ]
    }
   ],
   "source": [
    "################\n",
    "## Need help with this loop, create variables for unknown # of tifs\n",
    "# Read local raster\n",
    "\n",
    "img_list = glob.glob(city_folder + '/*ESA_1m*')\n",
    "# print(img_list)\n",
    "\n",
    "esa_1 = rasterio.open(img_list[0])\n",
    "# esa_2 = rasterio.open(img_list[1])\n",
    "\n",
    "print(esa_1.crs)"
   ]
  },
  {
   "cell_type": "markdown",
   "id": "1df5de32",
   "metadata": {},
   "source": [
    "# OSM"
   ]
  },
  {
   "cell_type": "markdown",
   "id": "6e7ed51b",
   "metadata": {},
   "source": [
    "## Open space"
   ]
  },
  {
   "cell_type": "code",
   "execution_count": 16,
   "id": "93767c46",
   "metadata": {},
   "outputs": [],
   "source": [
    "# open space OSM tags\n",
    "## tags from https://github.com/wri/cities-cif/blob/main/notebooks/extract-layers/extract-OSMopenspace.ipynb\n",
    "tags = {'leisure':['park', 'nature_reserve', 'common', 'playground', 'pitch', 'track'],\n",
    "        'boundary':['protected_area','national_park']}\n",
    "\n",
    "# use bounding box to get geodataframe of all OSM data on recreation sites/parks\n",
    "RecSites = ox.features_from_bbox(bb['maxy'], bb['miny'], bb['maxx'], bb['minx'], tags)\n",
    "\n",
    "# Drop points & lines\n",
    "RecSites = RecSites[RecSites.geom_type != 'Point']\n",
    "RecSites = RecSites[RecSites.geom_type != 'LineString'] "
   ]
  },
  {
   "cell_type": "code",
   "execution_count": 17,
   "id": "dc950fcd",
   "metadata": {},
   "outputs": [],
   "source": [
    "# Reproject to local state plane\n",
    "RecSites = RecSites.to_crs(proj)\n",
    "# print(RecSites.crs)\n",
    "\n",
    "# RecSites.plot()"
   ]
  },
  {
   "cell_type": "markdown",
   "id": "7e6035b2",
   "metadata": {},
   "source": [
    "### Rasterize"
   ]
  },
  {
   "cell_type": "code",
   "execution_count": 18,
   "id": "28eb59b7",
   "metadata": {},
   "outputs": [],
   "source": [
    "# Rasterize to match grid of esa \n",
    "geom = [shapes for shapes in RecSites.geometry]\n",
    "\n",
    "# Rasterize vector using the shape and coordinate system of the raster\n",
    "# all_touched = False means that only cells whose centroid is in the polygon are included\n",
    "# https://pygis.io/docs/e_raster_rasterize.html\n",
    "\n",
    "# Open space value is 10\n",
    "rasterized = rasterio.features.rasterize(geom,\n",
    "                                out_shape = esa_1.shape,\n",
    "                                fill = 0,\n",
    "                                out = None,\n",
    "                                transform = esa_1.transform,\n",
    "                                all_touched = False,\n",
    "                                default_value = 10,\n",
    "                                dtype = None)"
   ]
  },
  {
   "cell_type": "code",
   "execution_count": 19,
   "id": "e70f1ee6",
   "metadata": {},
   "outputs": [],
   "source": [
    "# Write raster\n",
    "with rasterio.open(\n",
    "        city_folder + \"/open_space.tif\", \"w\",\n",
    "        driver = \"GTiff\",\n",
    "        crs = esa_1.crs,\n",
    "        transform = esa_1.transform,\n",
    "        dtype = rasterio.uint8,\n",
    "        count = 1,\n",
    "        width = esa_1.width,\n",
    "        height = esa_1.height) as dst:\n",
    "    dst.write(rasterized, indexes = 1)"
   ]
  },
  {
   "cell_type": "markdown",
   "id": "62a70b7e",
   "metadata": {},
   "source": [
    "## Roads"
   ]
  },
  {
   "cell_type": "markdown",
   "id": "6c7df46b",
   "metadata": {},
   "source": [
    "### Download data"
   ]
  },
  {
   "cell_type": "code",
   "execution_count": 20,
   "id": "4c4d136f",
   "metadata": {},
   "outputs": [],
   "source": [
    "# Highways OSM tags\n",
    "## tags from Ludwig et al. 2021, https://www.mdpi.com/2220-9964/10/4/251\n",
    "tags = {'highway':['motorway', 'trunk', 'primary', 'secondary', 'tertiary', 'residential', 'unclassified', 'motorway_link', \n",
    "        'trunk_link', 'primary_link', 'secondary_link', 'tertiary_link', 'living_street']}\n",
    "\n",
    "# use bounding box to get geodataframe of all OSM data on recreation sites/parks\n",
    "roads = ox.features_from_bbox(bb['maxy'], bb['miny'], bb['maxx'], bb['minx'], tags)\n",
    "\n",
    "# Drop points \n",
    "roads = roads[roads.geom_type != 'Point']\n",
    "\n",
    "################\n",
    "## If there are polygons, cast them to lines\n",
    "################\n",
    "\n",
    "# Reproject to local state plane\n",
    "roads = roads.to_crs(proj)"
   ]
  },
  {
   "cell_type": "markdown",
   "id": "ef7dfeca",
   "metadata": {},
   "source": [
    "### Assign number of lanes"
   ]
  },
  {
   "cell_type": "code",
   "execution_count": 21,
   "id": "1b9e05f3",
   "metadata": {},
   "outputs": [],
   "source": [
    "# Calculate average number of lanes per highway type (use the ceiling)\n",
    "roads[\"highway\"] = roads[\"highway\"].astype(str)\n",
    "roads[\"lanes\"] = roads[\"lanes\"].astype(float)\n",
    "avg_lanes = roads.groupby('highway')['lanes'].mean()\n",
    "avg_lanes = np.ceil(avg_lanes)\n",
    "\n",
    "# Fill NaN values w/ avg values\n",
    "# make a series with full substitutions (even if there are valid c2 values)\n",
    "g = avg_lanes[roads.highway]\n",
    "\n",
    "# reset the index to match the dataframe\n",
    "g.index = roads.index\n",
    "\n",
    "# set the column values -- where non NaN take original; where NaN take from g\n",
    "roads['lanes'] = roads['lanes'].where(lambda x: ~pd.isna(x), g)"
   ]
  },
  {
   "cell_type": "markdown",
   "id": "fb471e39",
   "metadata": {},
   "source": [
    "### Buffer ([average urban street width](https://nacto.org/publication/urban-street-design-guide/street-design-elements/lane-width/#:~:text=wider%20lane%20widths.-,Lane%20widths%20of%2010%20feet%20are%20appropriate%20in%20urban%20areas,be%20used%20in%20each%20direction))"
   ]
  },
  {
   "cell_type": "code",
   "execution_count": 22,
   "id": "50a2d97f",
   "metadata": {},
   "outputs": [],
   "source": [
    "# Buffer by the number of lanes * 10 ft (3.048 m)\n",
    "\n",
    "# cap style 2 is flat to the terminus of the road\n",
    "# join style 2 is mitred to intersections are squared\n",
    "roads_buff = roads.buffer(3.048, cap_style = 2, join_style = 2)"
   ]
  },
  {
   "cell_type": "markdown",
   "id": "db19b511",
   "metadata": {},
   "source": [
    "### Rasterize"
   ]
  },
  {
   "cell_type": "code",
   "execution_count": 23,
   "id": "18046288",
   "metadata": {},
   "outputs": [],
   "source": [
    "# Rasterize to match grid of esa \n",
    "geom = [shapes for shapes in roads_buff.geometry]\n",
    "\n",
    "# Rasterize vector using the shape and coordinate system of the raster\n",
    "# Roads value is set to 20\n",
    "rasterized = rasterio.features.rasterize(geom,\n",
    "                                out_shape = esa_1.shape,\n",
    "                                fill = 0,\n",
    "                                out = None,\n",
    "                                transform = esa_1.transform,\n",
    "                                all_touched = False,\n",
    "                                default_value = 20,\n",
    "                                dtype = None)"
   ]
  },
  {
   "cell_type": "code",
   "execution_count": 24,
   "id": "d3fb4c0f",
   "metadata": {},
   "outputs": [],
   "source": [
    "# Write raster\n",
    "with rasterio.open(\n",
    "        city_folder + \"/roads.tif\", \"w\",\n",
    "        driver = \"GTiff\",\n",
    "        crs = esa_1.crs,\n",
    "        transform = esa_1.transform,\n",
    "        dtype = rasterio.uint8,\n",
    "        count = 1,\n",
    "        width = esa_1.width,\n",
    "        height = esa_1.height) as dst:\n",
    "    dst.write(rasterized, indexes = 1)"
   ]
  },
  {
   "cell_type": "markdown",
   "id": "2474e8c9",
   "metadata": {},
   "source": [
    "## Water"
   ]
  },
  {
   "cell_type": "markdown",
   "id": "bdb46270",
   "metadata": {},
   "source": [
    "### Download data"
   ]
  },
  {
   "cell_type": "code",
   "execution_count": 36,
   "id": "44218b31",
   "metadata": {},
   "outputs": [],
   "source": [
    "# open space OSM tags\n",
    "tags = {'water': True,\n",
    "        'natural': ['water']}\n",
    "\n",
    "# use bounding box to get geodataframe of all OSM data on recreation sites/parks\n",
    "water = ox.features_from_bbox(bb['maxy'], bb['miny'], bb['maxx'], bb['minx'], tags)\n",
    "\n",
    "###############\n",
    "## What to do if there are line features?\n",
    "###############\n",
    "\n",
    "# Drop points & lines\n",
    "water = water[water.geom_type != 'Point']\n",
    "water = water[water.geom_type != 'LineString'] \n",
    "\n",
    "# Reproject to local state plane\n",
    "water = water.to_crs(proj)"
   ]
  },
  {
   "cell_type": "markdown",
   "id": "c8cdc2ef",
   "metadata": {},
   "source": [
    "### Rasterize"
   ]
  },
  {
   "cell_type": "code",
   "execution_count": 37,
   "id": "a32c2309",
   "metadata": {},
   "outputs": [],
   "source": [
    "# Rasterize to match grid of esa \n",
    "geom = [shapes for shapes in water.geometry]\n",
    "\n",
    "# Rasterize vector using the shape and coordinate system of the raster\n",
    "# Water value is set to 30\n",
    "rasterized = rasterio.features.rasterize(geom,\n",
    "                                out_shape = esa_1.shape,\n",
    "                                fill = 0,\n",
    "                                out = None,\n",
    "                                transform = esa_1.transform,\n",
    "                                all_touched = False,\n",
    "                                default_value = 30,\n",
    "                                dtype = None)"
   ]
  },
  {
   "cell_type": "code",
   "execution_count": 38,
   "id": "1f16b8d1",
   "metadata": {},
   "outputs": [],
   "source": [
    "# Write raster\n",
    "with rasterio.open(\n",
    "        city_folder + \"/water.tif\", \"w\",\n",
    "        driver = \"GTiff\",\n",
    "        crs = esa_1.crs,\n",
    "        transform = esa_1.transform,\n",
    "        dtype = rasterio.uint8,\n",
    "        count = 1,\n",
    "        width = esa_1.width,\n",
    "        height = esa_1.height) as dst:\n",
    "    dst.write(rasterized, indexes = 1)"
   ]
  },
  {
   "cell_type": "markdown",
   "id": "6c8694a1",
   "metadata": {},
   "source": [
    "## Roofs"
   ]
  },
  {
   "cell_type": "code",
   "execution_count": 40,
   "id": "7d082e7d",
   "metadata": {},
   "outputs": [],
   "source": [
    "# open space OSM tags\n",
    "tags = {'building': True}\n",
    "\n",
    "# use bounding box to get geodataframe of all OSM data on recreation sites/parks\n",
    "buildings = ox.features_from_bbox(bb['maxy'], bb['miny'], bb['maxx'], bb['minx'], tags)\n",
    "\n",
    "# Drop points & lines\n",
    "buildings = buildings[buildings.geom_type != 'Point']\n",
    "buildings = buildings[buildings.geom_type != 'LineString'] \n",
    "\n",
    "# Reproject to local state plane\n",
    "buildings = buildings.to_crs(proj)"
   ]
  },
  {
   "cell_type": "code",
   "execution_count": 44,
   "id": "af25587f",
   "metadata": {},
   "outputs": [
    {
     "ename": "AttributeError",
     "evalue": "'Image' object has no attribute 'crs'",
     "output_type": "error",
     "traceback": [
      "\u001b[0;31m---------------------------------------------------------------------------\u001b[0m",
      "\u001b[0;31mAttributeError\u001b[0m                            Traceback (most recent call last)",
      "Cell \u001b[0;32mIn[44], line 9\u001b[0m\n\u001b[1;32m      7\u001b[0m \u001b[38;5;66;03m# ImageCollection to image\u001b[39;00m\n\u001b[1;32m      8\u001b[0m ulu_city \u001b[38;5;241m=\u001b[39m ulu_city\u001b[38;5;241m.\u001b[39mfirst()\u001b[38;5;241m.\u001b[39mselect(\u001b[38;5;124m'\u001b[39m\u001b[38;5;124mlulc\u001b[39m\u001b[38;5;124m'\u001b[39m)\n\u001b[0;32m----> 9\u001b[0m \u001b[38;5;28mprint\u001b[39m(\u001b[43mulu_city\u001b[49m\u001b[38;5;241;43m.\u001b[39;49m\u001b[43mcrs\u001b[49m)\n\u001b[1;32m     10\u001b[0m \u001b[38;5;66;03m# Reclassify raster to combine greenspace types\u001b[39;00m\n\u001b[1;32m     11\u001b[0m \n\u001b[1;32m     12\u001b[0m \u001b[38;5;66;03m## [ND, Tree, Shrubland, Grassland, Cropland, Built up, Bare/sparse vegetation,\u001b[39;00m\n\u001b[1;32m     13\u001b[0m \u001b[38;5;66;03m##  Snow/ice, Permanent water bodies, Herbaceous wetland, Mangroves, Moss and lichen]\u001b[39;00m\n\u001b[1;32m     14\u001b[0m FROM \u001b[38;5;241m=\u001b[39m [\u001b[38;5;241m0\u001b[39m, \u001b[38;5;241m10\u001b[39m, \u001b[38;5;241m20\u001b[39m, \u001b[38;5;241m30\u001b[39m, \u001b[38;5;241m40\u001b[39m, \u001b[38;5;241m50\u001b[39m, \u001b[38;5;241m60\u001b[39m, \u001b[38;5;241m80\u001b[39m, \u001b[38;5;241m70\u001b[39m, \u001b[38;5;241m90\u001b[39m, \u001b[38;5;241m95\u001b[39m, \u001b[38;5;241m100\u001b[39m]\n",
      "\u001b[0;31mAttributeError\u001b[0m: 'Image' object has no attribute 'crs'"
     ]
    }
   ],
   "source": [
    "# Read WRI ULU\n",
    "ulu = ee.ImageCollection('projects/wri-datalab/cities/urban_land_use/V1')\n",
    "\n",
    "# Clip to city of interest\n",
    "ulu_city = ulu.filterBounds(bb_geom)\n",
    "\n",
    "# ImageCollection to image\n",
    "ulu_city = ulu_city.first().select('lulc')\n",
    "print(ulu_city.crs)\n",
    "# Reclassify raster to combine greenspace types\n",
    "\n",
    "## [ND, Tree, Shrubland, Grassland, Cropland, Built up, Bare/sparse vegetation,\n",
    "##  Snow/ice, Permanent water bodies, Herbaceous wetland, Mangroves, Moss and lichen]\n",
    "FROM = [0, 10, 20, 30, 40, 50, 60, 80, 70, 90, 95, 100]\n",
    "\n",
    "## [ND, Green, Green, Green, Green, Built up, Barren, Water, Water, Water, Water, Barren]\n",
    "TO = [0, 1, 1, 1, 1, 2, 3, 4, 4, 4, 4, 3]\n",
    "\n",
    "# esa_city_rm = esa_city.remap(FROM, TO)"
   ]
  }
 ],
 "metadata": {
  "kernelspec": {
   "display_name": "Python 3 (ipykernel)",
   "language": "python",
   "name": "python3"
  },
  "language_info": {
   "codemirror_mode": {
    "name": "ipython",
    "version": 3
   },
   "file_extension": ".py",
   "mimetype": "text/x-python",
   "name": "python",
   "nbconvert_exporter": "python",
   "pygments_lexer": "ipython3",
   "version": "3.10.9"
  }
 },
 "nbformat": 4,
 "nbformat_minor": 5
}
