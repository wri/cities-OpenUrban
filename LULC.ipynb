{
 "cells": [
  {
   "cell_type": "code",
   "execution_count": 1,
   "id": "ecc1007b",
   "metadata": {},
   "outputs": [
    {
     "data": {
      "text/html": [
       "<p>To authorize access needed by Earth Engine, open the following\n",
       "        URL in a web browser and follow the instructions:</p>\n",
       "        <p><a href=https://code.earthengine.google.com/client-auth?scopes=https%3A//www.googleapis.com/auth/earthengine%20https%3A//www.googleapis.com/auth/devstorage.full_control&request_id=KZH8tnyg0i1ZoQ06Pp2V5l5gVPCsjpDMzreqScR8H0Q&tc=A2T1xiS5WwqfAcZQDMby9fNgKdv9wswMVCrfBc8zzIc&cc=sUI9BZ54CDltDkNrV5Ups3eKDl-IUV0nIpvVJvFxwvY>https://code.earthengine.google.com/client-auth?scopes=https%3A//www.googleapis.com/auth/earthengine%20https%3A//www.googleapis.com/auth/devstorage.full_control&request_id=KZH8tnyg0i1ZoQ06Pp2V5l5gVPCsjpDMzreqScR8H0Q&tc=A2T1xiS5WwqfAcZQDMby9fNgKdv9wswMVCrfBc8zzIc&cc=sUI9BZ54CDltDkNrV5Ups3eKDl-IUV0nIpvVJvFxwvY</a></p>\n",
       "        <p>The authorization workflow will generate a code, which you should paste in the box below.</p>\n",
       "        "
      ],
      "text/plain": [
       "<IPython.core.display.HTML object>"
      ]
     },
     "metadata": {},
     "output_type": "display_data"
    },
    {
     "name": "stdout",
     "output_type": "stream",
     "text": [
      "Enter verification code: 4/1Adeu5BXdcP98YmNI-WhjDS4jF_UHNC_RtqGPt9qudId5CVg7sd0DzKY4ZCA\n",
      "\n",
      "Successfully saved authorization token.\n"
     ]
    }
   ],
   "source": [
    "import ee\n",
    "#ee.Authenticate()"
   ]
  },
  {
   "cell_type": "code",
   "execution_count": 4,
   "id": "2b324982",
   "metadata": {},
   "outputs": [],
   "source": [
    "import ipyleaflet\n",
    "import numpy as np\n",
    "import requests\n",
    "import os\n",
    "import pandas as pd\n",
    "import rasterio\n",
    "import boto3\n",
    "import geopandas as gpd\n",
    "import glob\n",
    "import geemap"
   ]
  },
  {
   "cell_type": "code",
   "execution_count": null,
   "id": "3e53f7d0",
   "metadata": {},
   "outputs": [],
   "source": []
  }
 ],
 "metadata": {
  "kernelspec": {
   "display_name": "Python 3 (ipykernel)",
   "language": "python",
   "name": "python3"
  },
  "language_info": {
   "codemirror_mode": {
    "name": "ipython",
    "version": 3
   },
   "file_extension": ".py",
   "mimetype": "text/x-python",
   "name": "python",
   "nbconvert_exporter": "python",
   "pygments_lexer": "ipython3",
   "version": "3.10.9"
  }
 },
 "nbformat": 4,
 "nbformat_minor": 5
}
